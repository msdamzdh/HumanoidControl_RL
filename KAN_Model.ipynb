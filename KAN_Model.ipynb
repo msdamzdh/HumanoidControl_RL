{
 "cells": [
  {
   "cell_type": "code",
   "execution_count": 1,
   "metadata": {},
   "outputs": [],
   "source": [
    "import gymnasium as gym\n",
    "import torch\n",
    "from torch import nn\n",
    "import kan\n",
    "import torch.optim as optim\n",
    "from torch.distributions import Normal\n",
    "from os import path"
   ]
  },
  {
   "cell_type": "code",
   "execution_count": 2,
   "metadata": {},
   "outputs": [],
   "source": [
    "class PolicyNetwork(nn.Module):\n",
    "    \n",
    "    def __init__(self,state_space_dim,action_space_dim,device='cpu',hiden_size1=100,hidden_size2=50):\n",
    "        super().__init__()\n",
    "        self.klayer1 = kan.KANLayer(state_space_dim,hiden_size1).to(device)\n",
    "        self.klayer2 = kan.KANLayer(hiden_size1,hidden_size2).to(device)\n",
    "        self.mean = kan.KANLayer(hidden_size2,action_space_dim).to(device)\n",
    "        self.log_std = kan.KANLayer(hidden_size2,action_space_dim).to(device)\n",
    "        self.norm = nn.LayerNorm(hiden_size1).to(device)\n",
    "    def forward(self,x):\n",
    "        x,_,_,_ = self.klayer1(x)\n",
    "        x = self.norm(x)\n",
    "        x,_,_,_ = self.klayer2(x)\n",
    "        mean,_,_,_ = self.mean(x)\n",
    "        log_std,_,_,_ = self.log_std(x)\n",
    "        mean = 0.4*torch.tanh(mean)\n",
    "        std = 0.8*torch.sigmoid(torch.exp(log_std))\n",
    "        return mean,std\n"
   ]
  },
  {
   "cell_type": "code",
   "execution_count": 3,
   "metadata": {},
   "outputs": [],
   "source": [
    "# Define the Agent class\n",
    "class REINFORCEAgent:\n",
    "    def __init__(self, state_dim, action_dim, device,lr=1e-3,gamma=0.99):\n",
    "        self.policy = PolicyNetwork(state_dim, action_dim,device)\n",
    "        self.optimizer = optim.Adam(self.policy.parameters(),lr=lr,maximize=True)\n",
    "        self.episode_rewards = []\n",
    "        self.log_probs = []\n",
    "        self.gamma = gamma\n",
    "        self.device = device\n",
    "\n",
    "    def sample_action(self, state):\n",
    "        state = torch.FloatTensor(state).unsqueeze(0).to(self.device)\n",
    "        mean,std = self.policy(state)\n",
    "        dist = Normal(mean+1e-6,std+1e-6)\n",
    "        action = dist.sample()\n",
    "        log_prob = dist.log_prob(action)\n",
    "        self.log_probs.append(log_prob)\n",
    "        action = action.squeeze()\n",
    "        return action.detach().cpu().numpy()\n",
    "\n",
    "    def update_policy(self):\n",
    "        R = 0\n",
    "        returns = []\n",
    "        policy_loss = []\n",
    "        for r in self.episode_rewards[::-1]:\n",
    "            R = r + self.gamma * R\n",
    "            returns.insert(0, R)\n",
    "        returns = torch.tensor(returns)\n",
    "        # returns = (returns - returns.mean()) / (returns.std() + 1e-6)\n",
    "        for log_prob, R in zip(self.log_probs, returns):\n",
    "            policy_loss.append(log_prob * R)\n",
    "        \n",
    "        self.optimizer.zero_grad()\n",
    "        policy_loss = torch.cat(policy_loss).sum()\n",
    "        policy_loss.backward()\n",
    "        self.optimizer.step()\n",
    "\n",
    "        self.episode_rewards = []\n",
    "        self.log_probs = []"
   ]
  },
  {
   "cell_type": "markdown",
   "metadata": {},
   "source": [
    "#### Convertining solver_iter to solver_niter\n",
    "https://github.com/Farama-Foundation/Gymnasium/issues/749\n",
    "\n",
    "#### Removing self.env.close from close function in wrappers/monitoring/video_recorder.py\n",
    "https://github.com/Farama-Foundation/Gymnasium/issues/455"
   ]
  },
  {
   "cell_type": "code",
   "execution_count": null,
   "metadata": {},
   "outputs": [],
   "source": [
    "device = 'cuda' if torch.cuda.is_available() else 'cpu'\n",
    "video_path = path.join('KAN_videos')\n",
    "vide_episode_per_save = 20\n",
    "episode_per_print = 50\n",
    "#\n",
    "episode_trigger = lambda t: (t+1) % vide_episode_per_save==0\n",
    "num_episodes = 1000\n",
    "#\n",
    "env = gym.make('Humanoid-v4',render_mode='rgb_array')\n",
    "env = gym.wrappers.RecordVideo(env,video_folder=video_path,episode_trigger=episode_trigger,disable_logger=True)\n",
    "#\n",
    "state_dim = env.observation_space.shape[0]\n",
    "action_dim = env.action_space.shape[0]\n",
    "agent = REINFORCEAgent(state_dim, action_dim,device=device,lr=1e-3)\n",
    "observation,_= env.reset()\n",
    "Rewards = []\n"
   ]
  },
  {
   "cell_type": "markdown",
   "metadata": {},
   "source": [
    "## Training"
   ]
  },
  {
   "cell_type": "code",
   "execution_count": null,
   "metadata": {},
   "outputs": [],
   "source": [
    "for t in range(num_episodes):\n",
    "    total_reward = 0\n",
    "    done = False\n",
    "    act_count = 0\n",
    "    observation,info= env.reset()\n",
    "    while not done:\n",
    "        action = agent.sample_action(observation)  # agent policy that uses the observation and info\n",
    "        observation, reward, terminated, truncated, info = env.step(action)\n",
    "        agent.episode_rewards.append(reward)\n",
    "        total_reward += reward\n",
    "        act_count +=1\n",
    "        done = terminated or truncated    \n",
    "    Rewards.append(total_reward)\n",
    "    agent.update_policy()\n",
    "    \n",
    "    if (t+1)%episode_per_print==0:\n",
    "        print(f\"Episode: {t+1}, Reward:{total_reward}, Action in Episode:{act_count}\")\n",
    "\n",
    "env.close()"
   ]
  },
  {
   "cell_type": "markdown",
   "metadata": {},
   "source": [
    "## Plot results"
   ]
  },
  {
   "cell_type": "code",
   "execution_count": null,
   "metadata": {},
   "outputs": [],
   "source": [
    "import matplotlib.pyplot as plt\n",
    "plt.plot(range(1,len(Rewards)+1),Rewards)\n",
    "plt.xlabel('Episode')\n",
    "plt.ylabel('Reward')\n",
    "plt.show()\n",
    "torch.max(torch.tensor(Rewards)), torch.min(torch.tensor(Rewards))"
   ]
  }
 ],
 "metadata": {
  "kernelspec": {
   "display_name": "RLGymP",
   "language": "python",
   "name": "python3"
  },
  "language_info": {
   "codemirror_mode": {
    "name": "ipython",
    "version": 3
   },
   "file_extension": ".py",
   "mimetype": "text/x-python",
   "name": "python",
   "nbconvert_exporter": "python",
   "pygments_lexer": "ipython3",
   "version": "3.11.10"
  }
 },
 "nbformat": 4,
 "nbformat_minor": 2
}
